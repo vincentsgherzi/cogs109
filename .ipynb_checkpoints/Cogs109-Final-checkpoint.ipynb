{
 "cells": [
  {
   "cell_type": "markdown",
   "metadata": {},
   "source": [
    "# COGS  - Final Project\n",
    "\n",
    "https://docs.google.com/document/d/1IMQ9_9TBsWFXKovrPqFjuonHIWj6UqlheJpqwwFu0hw/edit?usp=sharing"
   ]
  },
  {
   "cell_type": "markdown",
   "metadata": {},
   "source": [
    "# Names"
   ]
  },
  {
   "cell_type": "markdown",
   "metadata": {},
   "source": [
    "- Shenova Davis\n",
    "- Lauren Lui\n",
    "- Vincent Sgherzi"
   ]
  },
  {
   "cell_type": "markdown",
   "metadata": {},
   "source": [
    "# Introduction"
   ]
  },
  {
   "cell_type": "markdown",
   "metadata": {},
   "source": [
    "Houses are one of the most expensive purchases families make in their lifetime. With housing prices spiraling out of control it is often difficult to determine what physical characteristics of a house most directly influence the sale price. Our project aims to find the most important physical attributes of a house that influence sales price. "
   ]
  },
  {
   "cell_type": "markdown",
   "metadata": {},
   "source": [
    "# Question"
   ]
  },
  {
   "cell_type": "markdown",
   "metadata": {},
   "source": [
    "What physical characteristics of a house most influence the sale price in a neighborhood?"
   ]
  },
  {
   "cell_type": "markdown",
   "metadata": {},
   "source": [
    "# Hypothesis"
   ]
  },
  {
   "cell_type": "markdown",
   "metadata": {},
   "source": [
    "Houses located in high density population areas will most affect sales price with ocean proximity being a secondary factor."
   ]
  },
  {
   "cell_type": "markdown",
   "metadata": {},
   "source": [
    "# Setup"
   ]
  },
  {
   "cell_type": "code",
   "execution_count": 1,
   "metadata": {},
   "outputs": [],
   "source": [
    "# import\n",
    "import numpy as np\n",
    "import pandas as pd\n",
    "import seaborn as sns\n",
    "import matplotlib.pyplot as plt\n",
    "from sklearn.model_selection import train_test_split\n",
    "from sklearn.linear_model import LinearRegression"
   ]
  },
  {
   "cell_type": "markdown",
   "metadata": {},
   "source": [
    "# Data"
   ]
  },
  {
   "cell_type": "markdown",
   "metadata": {},
   "source": [
    "The dataset used is pulled from Kaggle at https://www.kaggle.com/datasets/shibumohapatra/house-price, which collects data on California housing prices. Described below are the features in our dataset:\n",
    "- Longitude: Longitude value for the block in California, USA\n",
    "- Latitude: Latitude value for the block in California, USA\n",
    "- Housing_median_age: Median age of the house in the block\n",
    "- Total_rooms: Count of the total number of rooms (excluding bedrooms) in all houses in the block\n",
    "- Total_bedrooms: Count of the total number of bedrooms in all houses in the block\n",
    "- Population: Count of the total number of population in the block\n",
    "- Households: Count of the total number of households in the block\n",
    "- Median_income: Median of the total household income of all the houses in the block\n",
    "- Ocean_proximity: Type of the landscape of the block [ Unique Values : 'NEAR BAY', '<1H OCEAN', 'INLAND', 'NEAR OCEAN', 'ISLAND' ]\n",
    "- Median_house_value: Median of the household prices of all the houses in the block\n",
    "\n",
    "\n",
    "\n",
    "In addition, more information on our dataset as for relevance is as follows:\n",
    "- Number of observations: 20,600 observations\n",
    "- Relevant predictors: 7 predictors\n",
    "    - population\n",
    "    - ocean proximity (longitude, latitude)\n",
    "    - median house value\n",
    "    - number of households\n",
    "    - total rooms\n",
    "    - house median age"
   ]
  },
  {
   "cell_type": "markdown",
   "metadata": {},
   "source": [
    "To clean the data, first we need to drop all variables that are not needed as well as dropping the observations with missing data. "
   ]
  },
  {
   "cell_type": "code",
   "execution_count": null,
   "metadata": {},
   "outputs": [],
   "source": [
    "# read data\n",
    "df = pd.read_csv('house.csv')"
   ]
  },
  {
   "cell_type": "code",
   "execution_count": null,
   "metadata": {},
   "outputs": [],
   "source": [
    "df.head()"
   ]
  },
  {
   "cell_type": "code",
   "execution_count": null,
   "metadata": {},
   "outputs": [],
   "source": [
    "# clean data by renaming columns, dropping columns, and removing missing values\n",
    "df = df.rename(columns={'housing_median_age': 'median_age', \n",
    "                        'median_house_value': 'median_price'})\n",
    "df = df.drop(columns = ['total_bedrooms'])\n",
    "df = df.dropna(axis='index')"
   ]
  },
  {
   "cell_type": "code",
   "execution_count": null,
   "metadata": {},
   "outputs": [],
   "source": [
    "# adjust output of ocean_proximty column\n",
    "df['ocean_proximity'].unique()\n",
    "\n",
    "# get one hot encoding \n",
    "one_hot = pd.get_dummies(df['ocean_proximity'])\n",
    "# drop current ocean_proximity as it is now encoded\n",
    "df = df.drop('ocean_proximity',axis = 1)\n",
    "# join the encoded df\n",
    "df = df.join(one_hot)\n",
    "\n",
    "# rename columns\n",
    "df = df.rename(columns={'<1H OCEAN': '<1h_ocean', \n",
    "                        'INLAND': 'inland', 'ISLAND': \n",
    "                        'island', 'NEAR BAY': 'near_bay', \n",
    "                        'NEAR OCEAN': 'near_ocean'})\n",
    "\n",
    "df"
   ]
  },
  {
   "cell_type": "code",
   "execution_count": null,
   "metadata": {},
   "outputs": [],
   "source": []
  },
  {
   "cell_type": "code",
   "execution_count": null,
   "metadata": {},
   "outputs": [],
   "source": []
  },
  {
   "cell_type": "code",
   "execution_count": null,
   "metadata": {},
   "outputs": [],
   "source": []
  }
 ],
 "metadata": {
  "kernelspec": {
   "display_name": "Python 3",
   "language": "python",
   "name": "python3"
  },
  "language_info": {
   "codemirror_mode": {
    "name": "ipython",
    "version": 3
   },
   "file_extension": ".py",
   "mimetype": "text/x-python",
   "name": "python",
   "nbconvert_exporter": "python",
   "pygments_lexer": "ipython3",
   "version": "3.8.5"
  }
 },
 "nbformat": 4,
 "nbformat_minor": 5
}
